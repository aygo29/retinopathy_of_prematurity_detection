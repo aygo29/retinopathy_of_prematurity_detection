{
 "cells": [
  {
   "cell_type": "code",
   "execution_count": 1,
   "metadata": {},
   "outputs": [],
   "source": [
    "import numpy as np\n",
    "from sklearn.model_selection import train_test_split\n",
    "from keras import Sequential\n",
    "from keras.layers import Dense\n",
    "from keras.metrics import Precision, Recall\n",
    "import tensorflow as tf\n",
    "import os\n"
   ]
  },
  {
   "cell_type": "code",
   "execution_count": 2,
   "metadata": {},
   "outputs": [],
   "source": [
    "EMB_PATH = \"../../data/embeddings/decision_clf_enh/\"\n",
    "MODEL_NAME = \"decision_clf_enh\"\n",
    "\n",
    "MODEL_PATH = f\"../models/{MODEL_NAME}/\"\n",
    "K = 5"
   ]
  },
  {
   "cell_type": "code",
   "execution_count": 3,
   "metadata": {},
   "outputs": [],
   "source": [
    "# loads numpy array of dimensions: X - (num_images, 1280, 1), y - (num_images, num_classes)\n",
    "files = sorted(os.listdir(EMB_PATH))\n",
    "X = np.load(f\"{EMB_PATH}{files[0]}\")  \n",
    "y = np.load(f\"{EMB_PATH}{files[1]}\")\n",
    "\n",
    "# 70-20-10 split of data\n",
    "X_train, X_test, y_train, y_test = train_test_split(X, y, test_size=0.1)"
   ]
  },
  {
   "cell_type": "code",
   "execution_count": 4,
   "metadata": {},
   "outputs": [
    {
     "name": "stdout",
     "output_type": "stream",
     "text": [
      "Train set:  (63274, 1280, 1) (63274, 3)\n",
      "Test set:  (7031, 1280, 1) (7031, 3)\n"
     ]
    }
   ],
   "source": [
    "print(\"Train set: \", X_train.shape, y_train.shape)\n",
    "print(\"Test set: \", X_test.shape, y_test.shape)"
   ]
  },
  {
   "cell_type": "code",
   "execution_count": 5,
   "metadata": {},
   "outputs": [],
   "source": [
    "num_classes = y.shape[1]"
   ]
  },
  {
   "cell_type": "code",
   "execution_count": 6,
   "metadata": {},
   "outputs": [],
   "source": [
    "def k_folds_split(X, y, n=1):\n",
    "    p = np.random.permutation(len(X))\n",
    "    X, y = X[p], y[p]\n",
    "    x_split = np.array_split(X, n)\n",
    "    y_split = np.array_split(y, n)\n",
    "    return (x_split, y_split)"
   ]
  },
  {
   "cell_type": "code",
   "execution_count": 7,
   "metadata": {},
   "outputs": [],
   "source": [
    "def k_folds_join(X, y, ind=0):\n",
    "    n = len(X)\n",
    "    train_x, train_y = None, None\n",
    "    test_x, test_y = X[ind], y[ind]\n",
    "\n",
    "    for i in range(n):\n",
    "        if i != ind:\n",
    "            if type(train_x) != np.ndarray:\n",
    "                train_x, train_y = X[i], y[i]\n",
    "            else:\n",
    "                train_x = np.concatenate((train_x, X[i]))\n",
    "                train_y = np.concatenate((train_y, y[i]))\n",
    "    \n",
    "    return (train_x, train_y), (test_x, test_y)"
   ]
  },
  {
   "cell_type": "code",
   "execution_count": 8,
   "metadata": {},
   "outputs": [],
   "source": [
    "def kfolds_train(X, y, K):\n",
    "    results = []\n",
    "    X_split, y_split = k_folds_split(X, y, K) \n",
    "\n",
    "    for i in range(K):\n",
    "        (X_train, y_train), (X_val, y_val) = k_folds_join(X_split, y_split, i)\n",
    "\n",
    "        model = Sequential([\n",
    "            Dense(1024, input_dim=1280, activation='relu'),\n",
    "            Dense(1024, activation='relu'),\n",
    "            Dense(num_classes, activation='softmax')\n",
    "        ])\n",
    "\n",
    "        model.compile(loss='categorical_crossentropy', optimizer='adam', \n",
    "            metrics=['accuracy', Precision(name='precision'), Recall(name='recall')])\n",
    "\n",
    "        model.fit(X_train, y_train, epochs=10, batch_size=128, validation_data=(X_val, y_val))\n",
    "\n",
    "        result = model.evaluate(X_test, y_test)\n",
    "        results.append(result)\n",
    "    \n",
    "    return model, results"
   ]
  },
  {
   "cell_type": "code",
   "execution_count": 9,
   "metadata": {},
   "outputs": [],
   "source": [
    "def train(X, y):\n",
    "    X_train, X_val, y_train, y_val = train_test_split(X, y, test_size=2/9)\n",
    "    \n",
    "    model = Sequential([\n",
    "            Dense(1024, input_dim=1280, activation='relu'),\n",
    "            Dense(1024, activation='relu'),\n",
    "            Dense(num_classes, activation='softmax')\n",
    "        ])\n",
    "\n",
    "    model.compile(loss='categorical_crossentropy', optimizer='adam', \n",
    "        metrics=['accuracy', Precision(name='precision'), Recall(name='recall')])\n",
    "\n",
    "    model.fit(X_train, y_train, epochs=10, batch_size=128, validation_data=(X_val, y_val))\n",
    "\n",
    "    results = model.evaluate(X_test, y_test)\n",
    "    return model, results"
   ]
  },
  {
   "cell_type": "code",
   "execution_count": 10,
   "metadata": {},
   "outputs": [
    {
     "name": "stdout",
     "output_type": "stream",
     "text": [
      "Epoch 1/10\n",
      "396/396 [==============================] - 10s 10ms/step - loss: 0.5928 - accuracy: 0.7395 - precision: 0.7427 - recall: 0.7360 - val_loss: 0.5706 - val_accuracy: 0.7437 - val_precision: 0.7443 - val_recall: 0.7415\n",
      "Epoch 2/10\n",
      "396/396 [==============================] - 3s 8ms/step - loss: 0.5570 - accuracy: 0.7515 - precision: 0.7525 - recall: 0.7485 - val_loss: 0.5523 - val_accuracy: 0.7519 - val_precision: 0.7526 - val_recall: 0.7499\n",
      "Epoch 3/10\n",
      "396/396 [==============================] - 3s 9ms/step - loss: 0.5457 - accuracy: 0.7576 - precision: 0.7586 - recall: 0.7555 - val_loss: 0.5551 - val_accuracy: 0.7540 - val_precision: 0.7564 - val_recall: 0.7497\n",
      "Epoch 4/10\n",
      "396/396 [==============================] - 3s 9ms/step - loss: 0.5372 - accuracy: 0.7612 - precision: 0.7625 - recall: 0.7588 - val_loss: 0.5388 - val_accuracy: 0.7583 - val_precision: 0.7594 - val_recall: 0.7560\n",
      "Epoch 5/10\n",
      "396/396 [==============================] - 3s 7ms/step - loss: 0.5317 - accuracy: 0.7626 - precision: 0.7639 - recall: 0.7602 - val_loss: 0.5437 - val_accuracy: 0.7522 - val_precision: 0.7532 - val_recall: 0.7506\n",
      "Epoch 6/10\n",
      "396/396 [==============================] - 3s 7ms/step - loss: 0.5289 - accuracy: 0.7656 - precision: 0.7672 - recall: 0.7632 - val_loss: 0.5491 - val_accuracy: 0.7577 - val_precision: 0.7589 - val_recall: 0.7555\n",
      "Epoch 7/10\n",
      "396/396 [==============================] - 3s 7ms/step - loss: 0.5235 - accuracy: 0.7675 - precision: 0.7684 - recall: 0.7650 - val_loss: 0.5422 - val_accuracy: 0.7559 - val_precision: 0.7573 - val_recall: 0.7531\n",
      "Epoch 8/10\n",
      "396/396 [==============================] - 3s 7ms/step - loss: 0.5205 - accuracy: 0.7677 - precision: 0.7690 - recall: 0.7655 - val_loss: 0.5955 - val_accuracy: 0.7513 - val_precision: 0.7515 - val_recall: 0.7503\n",
      "Epoch 9/10\n",
      "396/396 [==============================] - 3s 7ms/step - loss: 0.5139 - accuracy: 0.7708 - precision: 0.7719 - recall: 0.7688 - val_loss: 0.5387 - val_accuracy: 0.7604 - val_precision: 0.7619 - val_recall: 0.7572\n",
      "Epoch 10/10\n",
      "396/396 [==============================] - 3s 7ms/step - loss: 0.5094 - accuracy: 0.7735 - precision: 0.7745 - recall: 0.7719 - val_loss: 0.5285 - val_accuracy: 0.7665 - val_precision: 0.7674 - val_recall: 0.7655\n",
      "220/220 [==============================] - 1s 4ms/step - loss: 0.5316 - accuracy: 0.7677 - precision: 0.7689 - recall: 0.7670\n",
      "Epoch 1/10\n",
      "396/396 [==============================] - 4s 8ms/step - loss: 0.5944 - accuracy: 0.7376 - precision: 0.7399 - recall: 0.7331 - val_loss: 0.5597 - val_accuracy: 0.7529 - val_precision: 0.7550 - val_recall: 0.7506\n",
      "Epoch 2/10\n",
      "396/396 [==============================] - 3s 7ms/step - loss: 0.5579 - accuracy: 0.7513 - precision: 0.7523 - recall: 0.7493 - val_loss: 0.5488 - val_accuracy: 0.7534 - val_precision: 0.7554 - val_recall: 0.7502\n",
      "Epoch 3/10\n",
      "396/396 [==============================] - 3s 7ms/step - loss: 0.5463 - accuracy: 0.7570 - precision: 0.7582 - recall: 0.7546 - val_loss: 0.5520 - val_accuracy: 0.7559 - val_precision: 0.7561 - val_recall: 0.7556\n",
      "Epoch 4/10\n",
      "396/396 [==============================] - 3s 7ms/step - loss: 0.5398 - accuracy: 0.7592 - precision: 0.7601 - recall: 0.7566 - val_loss: 0.5354 - val_accuracy: 0.7613 - val_precision: 0.7628 - val_recall: 0.7592\n",
      "Epoch 5/10\n",
      "396/396 [==============================] - 3s 7ms/step - loss: 0.5327 - accuracy: 0.7620 - precision: 0.7632 - recall: 0.7601 - val_loss: 0.5404 - val_accuracy: 0.7618 - val_precision: 0.7624 - val_recall: 0.7605\n",
      "Epoch 6/10\n",
      "396/396 [==============================] - 3s 7ms/step - loss: 0.5308 - accuracy: 0.7646 - precision: 0.7655 - recall: 0.7619 - val_loss: 0.5413 - val_accuracy: 0.7551 - val_precision: 0.7560 - val_recall: 0.7539\n",
      "Epoch 7/10\n",
      "396/396 [==============================] - 3s 7ms/step - loss: 0.5216 - accuracy: 0.7679 - precision: 0.7692 - recall: 0.7654 - val_loss: 0.5218 - val_accuracy: 0.7682 - val_precision: 0.7692 - val_recall: 0.7673\n",
      "Epoch 8/10\n",
      "396/396 [==============================] - 3s 8ms/step - loss: 0.5200 - accuracy: 0.7692 - precision: 0.7702 - recall: 0.7673 - val_loss: 0.5357 - val_accuracy: 0.7601 - val_precision: 0.7624 - val_recall: 0.7580\n",
      "Epoch 9/10\n",
      "396/396 [==============================] - 3s 8ms/step - loss: 0.5144 - accuracy: 0.7724 - precision: 0.7734 - recall: 0.7703 - val_loss: 0.5260 - val_accuracy: 0.7648 - val_precision: 0.7655 - val_recall: 0.7641\n",
      "Epoch 10/10\n",
      "396/396 [==============================] - 3s 8ms/step - loss: 0.5107 - accuracy: 0.7736 - precision: 0.7745 - recall: 0.7715 - val_loss: 0.5235 - val_accuracy: 0.7685 - val_precision: 0.7688 - val_recall: 0.7671\n",
      "220/220 [==============================] - 1s 5ms/step - loss: 0.5350 - accuracy: 0.7675 - precision: 0.7678 - recall: 0.7663\n",
      "Epoch 1/10\n",
      "396/396 [==============================] - 4s 8ms/step - loss: 0.5924 - accuracy: 0.7361 - precision: 0.7384 - recall: 0.7316 - val_loss: 0.5743 - val_accuracy: 0.7447 - val_precision: 0.7454 - val_recall: 0.7429\n",
      "Epoch 2/10\n",
      "396/396 [==============================] - 3s 7ms/step - loss: 0.5582 - accuracy: 0.7512 - precision: 0.7525 - recall: 0.7487 - val_loss: 0.5845 - val_accuracy: 0.7407 - val_precision: 0.7408 - val_recall: 0.7396\n",
      "Epoch 3/10\n",
      "396/396 [==============================] - 3s 7ms/step - loss: 0.5483 - accuracy: 0.7565 - precision: 0.7575 - recall: 0.7538 - val_loss: 0.5405 - val_accuracy: 0.7618 - val_precision: 0.7625 - val_recall: 0.7599\n",
      "Epoch 4/10\n",
      "396/396 [==============================] - 3s 7ms/step - loss: 0.5396 - accuracy: 0.7595 - precision: 0.7608 - recall: 0.7570 - val_loss: 0.5609 - val_accuracy: 0.7529 - val_precision: 0.7540 - val_recall: 0.7520\n",
      "Epoch 5/10\n",
      "396/396 [==============================] - 3s 7ms/step - loss: 0.5341 - accuracy: 0.7623 - precision: 0.7637 - recall: 0.7602 - val_loss: 0.5450 - val_accuracy: 0.7594 - val_precision: 0.7624 - val_recall: 0.7542\n",
      "Epoch 6/10\n",
      "396/396 [==============================] - 3s 7ms/step - loss: 0.5302 - accuracy: 0.7646 - precision: 0.7655 - recall: 0.7629 - val_loss: 0.5405 - val_accuracy: 0.7625 - val_precision: 0.7648 - val_recall: 0.7577\n",
      "Epoch 7/10\n",
      "396/396 [==============================] - 3s 7ms/step - loss: 0.5256 - accuracy: 0.7659 - precision: 0.7673 - recall: 0.7637 - val_loss: 0.5314 - val_accuracy: 0.7640 - val_precision: 0.7662 - val_recall: 0.7615\n",
      "Epoch 8/10\n",
      "396/396 [==============================] - 3s 7ms/step - loss: 0.5193 - accuracy: 0.7688 - precision: 0.7702 - recall: 0.7665 - val_loss: 0.5326 - val_accuracy: 0.7619 - val_precision: 0.7628 - val_recall: 0.7605\n",
      "Epoch 9/10\n",
      "396/396 [==============================] - 3s 7ms/step - loss: 0.5133 - accuracy: 0.7714 - precision: 0.7727 - recall: 0.7695 - val_loss: 0.5277 - val_accuracy: 0.7674 - val_precision: 0.7681 - val_recall: 0.7655\n",
      "Epoch 10/10\n",
      "396/396 [==============================] - 3s 7ms/step - loss: 0.5106 - accuracy: 0.7736 - precision: 0.7748 - recall: 0.7719 - val_loss: 0.5296 - val_accuracy: 0.7659 - val_precision: 0.7666 - val_recall: 0.7652\n",
      "220/220 [==============================] - 1s 4ms/step - loss: 0.5369 - accuracy: 0.7658 - precision: 0.7663 - recall: 0.7648\n",
      "Epoch 1/10\n",
      "396/396 [==============================] - 6s 13ms/step - loss: 0.5909 - accuracy: 0.7374 - precision: 0.7407 - recall: 0.7339 - val_loss: 0.5746 - val_accuracy: 0.7447 - val_precision: 0.7466 - val_recall: 0.7411\n",
      "Epoch 2/10\n",
      "396/396 [==============================] - 5s 12ms/step - loss: 0.5575 - accuracy: 0.7503 - precision: 0.7518 - recall: 0.7478 - val_loss: 0.5456 - val_accuracy: 0.7620 - val_precision: 0.7639 - val_recall: 0.7584\n",
      "Epoch 3/10\n",
      "396/396 [==============================] - 3s 9ms/step - loss: 0.5484 - accuracy: 0.7565 - precision: 0.7576 - recall: 0.7540 - val_loss: 0.5425 - val_accuracy: 0.7610 - val_precision: 0.7616 - val_recall: 0.7598\n",
      "Epoch 4/10\n",
      "396/396 [==============================] - 3s 8ms/step - loss: 0.5412 - accuracy: 0.7583 - precision: 0.7593 - recall: 0.7560 - val_loss: 0.5437 - val_accuracy: 0.7560 - val_precision: 0.7564 - val_recall: 0.7553\n",
      "Epoch 5/10\n",
      "396/396 [==============================] - 3s 8ms/step - loss: 0.5354 - accuracy: 0.7600 - precision: 0.7612 - recall: 0.7577 - val_loss: 0.5351 - val_accuracy: 0.7634 - val_precision: 0.7640 - val_recall: 0.7618\n",
      "Epoch 6/10\n",
      "396/396 [==============================] - 3s 7ms/step - loss: 0.5304 - accuracy: 0.7639 - precision: 0.7653 - recall: 0.7622 - val_loss: 0.5296 - val_accuracy: 0.7658 - val_precision: 0.7679 - val_recall: 0.7618\n",
      "Epoch 7/10\n",
      "396/396 [==============================] - 3s 8ms/step - loss: 0.5244 - accuracy: 0.7666 - precision: 0.7679 - recall: 0.7648 - val_loss: 0.5223 - val_accuracy: 0.7685 - val_precision: 0.7693 - val_recall: 0.7669\n",
      "Epoch 8/10\n",
      "396/396 [==============================] - 3s 8ms/step - loss: 0.5193 - accuracy: 0.7707 - precision: 0.7718 - recall: 0.7684 - val_loss: 0.5210 - val_accuracy: 0.7680 - val_precision: 0.7695 - val_recall: 0.7654\n",
      "Epoch 9/10\n",
      "396/396 [==============================] - 3s 8ms/step - loss: 0.5163 - accuracy: 0.7706 - precision: 0.7721 - recall: 0.7684 - val_loss: 0.5540 - val_accuracy: 0.7544 - val_precision: 0.7548 - val_recall: 0.7535\n",
      "Epoch 10/10\n",
      "396/396 [==============================] - 3s 8ms/step - loss: 0.5139 - accuracy: 0.7699 - precision: 0.7709 - recall: 0.7682 - val_loss: 0.5212 - val_accuracy: 0.7707 - val_precision: 0.7729 - val_recall: 0.7663\n",
      "220/220 [==============================] - 1s 5ms/step - loss: 0.5309 - accuracy: 0.7683 - precision: 0.7707 - recall: 0.7640\n",
      "Epoch 1/10\n",
      "396/396 [==============================] - 4s 9ms/step - loss: 0.5939 - accuracy: 0.7374 - precision: 0.7394 - recall: 0.7327 - val_loss: 0.5581 - val_accuracy: 0.7474 - val_precision: 0.7480 - val_recall: 0.7454\n",
      "Epoch 2/10\n",
      "396/396 [==============================] - 3s 8ms/step - loss: 0.5596 - accuracy: 0.7529 - precision: 0.7540 - recall: 0.7505 - val_loss: 0.5536 - val_accuracy: 0.7499 - val_precision: 0.7508 - val_recall: 0.7475\n",
      "Epoch 3/10\n",
      "396/396 [==============================] - 3s 8ms/step - loss: 0.5516 - accuracy: 0.7540 - precision: 0.7553 - recall: 0.7521 - val_loss: 0.5415 - val_accuracy: 0.7572 - val_precision: 0.7577 - val_recall: 0.7544\n",
      "Epoch 4/10\n",
      "396/396 [==============================] - 3s 8ms/step - loss: 0.5426 - accuracy: 0.7588 - precision: 0.7595 - recall: 0.7565 - val_loss: 0.5376 - val_accuracy: 0.7588 - val_precision: 0.7610 - val_recall: 0.7564\n",
      "Epoch 5/10\n",
      "396/396 [==============================] - 3s 8ms/step - loss: 0.5352 - accuracy: 0.7626 - precision: 0.7636 - recall: 0.7606 - val_loss: 0.5344 - val_accuracy: 0.7631 - val_precision: 0.7634 - val_recall: 0.7621\n",
      "Epoch 6/10\n",
      "396/396 [==============================] - 3s 8ms/step - loss: 0.5275 - accuracy: 0.7661 - precision: 0.7673 - recall: 0.7640 - val_loss: 0.5358 - val_accuracy: 0.7624 - val_precision: 0.7633 - val_recall: 0.7595\n",
      "Epoch 7/10\n",
      "396/396 [==============================] - 3s 8ms/step - loss: 0.5209 - accuracy: 0.7682 - precision: 0.7691 - recall: 0.7664 - val_loss: 0.5452 - val_accuracy: 0.7529 - val_precision: 0.7542 - val_recall: 0.7504\n",
      "Epoch 8/10\n",
      "396/396 [==============================] - 3s 8ms/step - loss: 0.5165 - accuracy: 0.7705 - precision: 0.7713 - recall: 0.7683 - val_loss: 0.5303 - val_accuracy: 0.7659 - val_precision: 0.7678 - val_recall: 0.7624\n",
      "Epoch 9/10\n",
      "396/396 [==============================] - 3s 8ms/step - loss: 0.5150 - accuracy: 0.7701 - precision: 0.7714 - recall: 0.7683 - val_loss: 0.5292 - val_accuracy: 0.7654 - val_precision: 0.7674 - val_recall: 0.7617\n",
      "Epoch 10/10\n",
      "396/396 [==============================] - 3s 8ms/step - loss: 0.5083 - accuracy: 0.7734 - precision: 0.7744 - recall: 0.7718 - val_loss: 0.5527 - val_accuracy: 0.7479 - val_precision: 0.7482 - val_recall: 0.7470\n",
      "220/220 [==============================] - 1s 5ms/step - loss: 0.5602 - accuracy: 0.7468 - precision: 0.7469 - recall: 0.7457\n"
     ]
    }
   ],
   "source": [
    "model, results = kfolds_train(X_train, y_train, K)\n",
    "# model, results = train(X_train, y_train)"
   ]
  },
  {
   "cell_type": "code",
   "execution_count": 11,
   "metadata": {},
   "outputs": [],
   "source": [
    "def display_kfolds_results(results):\n",
    "    mean_results = [0 for i in range(len(results[0]))]\n",
    "    for i in range(K):\n",
    "        for j in range(len(results[i])):\n",
    "            mean_results[j] += results[i][j]\n",
    "        print(f\"Model {i+1}: {results[i][1]:.4f} (accuracy) {results[i][2]:.4f} (precision) {results[i][3]:.4f} (recall)\")\n",
    "\n",
    "    mean_results = [i/K for i in mean_results]\n",
    "    print(f\"\\nMean: {mean_results[1]:.4f} (accuracy) {mean_results[2]:.4f} (precision) {mean_results[3]:.4f} (recall)\")"
   ]
  },
  {
   "cell_type": "code",
   "execution_count": 12,
   "metadata": {},
   "outputs": [
    {
     "name": "stdout",
     "output_type": "stream",
     "text": [
      "Model 1: 0.7677 (accuracy) 0.7689 (precision) 0.7670 (recall)\n",
      "Model 2: 0.7675 (accuracy) 0.7678 (precision) 0.7663 (recall)\n",
      "Model 3: 0.7658 (accuracy) 0.7663 (precision) 0.7648 (recall)\n",
      "Model 4: 0.7683 (accuracy) 0.7707 (precision) 0.7640 (recall)\n",
      "Model 5: 0.7468 (accuracy) 0.7469 (precision) 0.7457 (recall)\n",
      "\n",
      "Mean: 0.7632 (accuracy) 0.7641 (precision) 0.7616 (recall)\n"
     ]
    }
   ],
   "source": [
    "display_kfolds_results(results)"
   ]
  },
  {
   "cell_type": "code",
   "execution_count": 13,
   "metadata": {},
   "outputs": [
    {
     "name": "stdout",
     "output_type": "stream",
     "text": [
      "220/220 [==============================] - 1s 3ms/step\n"
     ]
    }
   ],
   "source": [
    "probs = model.predict(X_test)\n",
    "predictions = [np.argmax(i) for i in probs]\n",
    "labels = [np.argmax(i) for i in y_test]\n",
    "\n",
    "res = tf.math.confusion_matrix(labels, predictions)"
   ]
  },
  {
   "cell_type": "code",
   "execution_count": 14,
   "metadata": {},
   "outputs": [
    {
     "data": {
      "image/png": "[encoded data removed]",
      "text/plain": [
       "<Figure size 640x480 with 2 Axes>"
      ]
     },
     "metadata": {},
     "output_type": "display_data"
    }
   ],
   "source": [
    "import seaborn as sn\n",
    "import pandas as pd\n",
    "import matplotlib.pyplot as plt\n",
    "\n",
    "# classes = sorted(list(set(labels)))\n",
    "classes = [\"Urgent Treatment\", \"Follow up\", \"Discharge\"]\n",
    "\n",
    "array = np.array(res).tolist()\n",
    "df_cm = pd.DataFrame(array, classes, classes)\n",
    "sn.set(font_scale=1)\n",
    "sn.heatmap(df_cm, annot=True, annot_kws={\"size\": 16}, fmt='g')\n",
    "\n",
    "plt.show()"
   ]
  },
  {
   "cell_type": "code",
   "execution_count": null,
   "metadata": {},
   "outputs": [],
   "source": []
  }
 ],
 "metadata": {
  "kernelspec": {
   "display_name": "base",
   "language": "python",
   "name": "python3"
  },
  "language_info": {
   "codemirror_mode": {
    "name": "ipython",
    "version": 3
   },
   "file_extension": ".py",
   "mimetype": "text/x-python",
   "name": "python",
   "nbconvert_exporter": "python",
   "pygments_lexer": "ipython3",
   "version": "3.9.16"
  },
  "orig_nbformat": 4
 },
 "nbformat": 4,
 "nbformat_minor": 2
}
