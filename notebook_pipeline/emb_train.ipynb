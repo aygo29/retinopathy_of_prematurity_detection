{
 "cells": [
  {
   "cell_type": "code",
   "execution_count": 1,
   "metadata": {},
   "outputs": [],
   "source": [
    "import numpy as np\n",
    "from sklearn.model_selection import train_test_split\n",
    "from keras import Sequential\n",
    "from keras.layers import Dense\n",
    "from keras.metrics import AUC\n",
    "import keras.backend as K\n",
    "import tensorflow as tf\n",
    "import os\n"
   ]
  },
  {
   "cell_type": "code",
   "execution_count": 2,
   "metadata": {},
   "outputs": [],
   "source": [
    "EMB_PATH = \"../../data/embeddings/efficient_net/decision_clf_enh/\"\n",
    "MODEL_NAME = \"decision_enh_all\"\n",
    "\n",
    "MODEL_PATH = f\"../models/{MODEL_NAME}/\"\n",
    "classes = [\"Urgent Treatment\", \"Follow Up\", \"Discharge\"]\n",
    "k = 5"
   ]
  },
  {
   "cell_type": "code",
   "execution_count": 3,
   "metadata": {},
   "outputs": [],
   "source": [
    "# loads numpy array of dimensions: X - (num_images, 1280, 1), y - (num_images, num_classes)\n",
    "files = sorted(os.listdir(EMB_PATH))\n",
    "X = np.load(f\"{EMB_PATH}{files[0]}\")  \n",
    "y = np.load(f\"{EMB_PATH}{files[1]}\")\n",
    "input_dim = X.shape[1]\n",
    "\n",
    "# 70-20-10 split of data\n",
    "X_train, X_test, y_train, y_test = train_test_split(X, y, test_size=0.1)"
   ]
  },
  {
   "cell_type": "code",
   "execution_count": 4,
   "metadata": {},
   "outputs": [
    {
     "name": "stdout",
     "output_type": "stream",
     "text": [
      "Train set:  (63274, 1280, 1) (63274, 3)\n",
      "Test set:  (7031, 1280, 1) (7031, 3)\n"
     ]
    }
   ],
   "source": [
    "print(\"Train set: \", X_train.shape, y_train.shape)\n",
    "print(\"Test set: \", X_test.shape, y_test.shape)"
   ]
  },
  {
   "cell_type": "code",
   "execution_count": 5,
   "metadata": {},
   "outputs": [],
   "source": [
    "num_classes = y.shape[1]"
   ]
  },
  {
   "cell_type": "code",
   "execution_count": 6,
   "metadata": {},
   "outputs": [],
   "source": [
    "def k_folds_split(X, y, n=1):\n",
    "    p = np.random.permutation(len(X))\n",
    "    X, y = X[p], y[p]\n",
    "    x_split = np.array_split(X, n)\n",
    "    y_split = np.array_split(y, n)\n",
    "    return (x_split, y_split)"
   ]
  },
  {
   "cell_type": "code",
   "execution_count": 7,
   "metadata": {},
   "outputs": [],
   "source": [
    "def k_folds_join(X, y, ind=0):\n",
    "    n = len(X)\n",
    "    train_x, train_y = None, None\n",
    "    test_x, test_y = X[ind], y[ind]\n",
    "\n",
    "    for i in range(n):\n",
    "        if i != ind:\n",
    "            if type(train_x) != np.ndarray:\n",
    "                train_x, train_y = X[i], y[i]\n",
    "            else:\n",
    "                train_x = np.concatenate((train_x, X[i]))\n",
    "                train_y = np.concatenate((train_y, y[i]))\n",
    "    \n",
    "    return (train_x, train_y), (test_x, test_y)"
   ]
  },
  {
   "cell_type": "code",
   "execution_count": 8,
   "metadata": {},
   "outputs": [],
   "source": [
    "def sensitivity(y_true, y_pred):     \n",
    "    true_positives = K.sum(K.round(K.clip(y_true * y_pred, 0, 1)))\n",
    "    possible_positives = K.sum(K.round(K.clip(y_true, 0, 1)))\n",
    "    return true_positives / (possible_positives + K.epsilon())\n",
    "\n",
    "def specificity(y_true, y_pred):    \n",
    "    true_negatives = K.sum(K.round(K.clip((1 - y_true) * (1 - y_pred), 0, 1)))\n",
    "    possible_negatives = K.sum(K.round(K.clip(1 - y_true, 0, 1)))\n",
    "    return true_negatives / (possible_negatives + K.epsilon())"
   ]
  },
  {
   "cell_type": "code",
   "execution_count": 9,
   "metadata": {},
   "outputs": [],
   "source": [
    "def kfolds_train(X, y, k):\n",
    "    results = []\n",
    "    X_split, y_split = k_folds_split(X, y, k) \n",
    "\n",
    "    for i in range(k):\n",
    "        (X_train, y_train), (X_val, y_val) = k_folds_join(X_split, y_split, i)\n",
    "\n",
    "        model = Sequential([\n",
    "            Dense(1024, input_dim=input_dim, activation='relu'),\n",
    "            Dense(1024, activation='relu'),\n",
    "            Dense(num_classes, activation='softmax')\n",
    "        ])\n",
    "\n",
    "        model.compile(loss='categorical_crossentropy', optimizer='adam', \n",
    "            metrics=['accuracy',  AUC(name='AUC'), sensitivity, specificity])\n",
    "\n",
    "        model.fit(X_train, y_train, epochs=20, batch_size=128, validation_data=(X_val, y_val))\n",
    "\n",
    "        result = model.evaluate(X_test, y_test)\n",
    "        results.append(result)\n",
    "    \n",
    "    return model, results"
   ]
  },
  {
   "cell_type": "code",
   "execution_count": 10,
   "metadata": {},
   "outputs": [],
   "source": [
    "def train(X, y):\n",
    "    X_train, X_val, y_train, y_val = train_test_split(X, y, test_size=2/9)\n",
    "    \n",
    "    model = Sequential([\n",
    "            Dense(1024, input_dim=input_dim, activation='relu'),\n",
    "            Dense(1024, activation='relu'),\n",
    "            Dense(num_classes, activation='softmax')\n",
    "        ])\n",
    "\n",
    "    model.compile(loss='categorical_crossentropy', optimizer='adam', \n",
    "        metrics=['accuracy',  AUC(name='AUC'), sensitivity, specificity])\n",
    "\n",
    "    model.fit(X_train, y_train, epochs=30, batch_size=128, validation_data=(X_val, y_val))\n",
    "\n",
    "    results = model.evaluate(X_test, y_test)\n",
    "    return model, results"
   ]
  },
  {
   "cell_type": "code",
   "execution_count": 11,
   "metadata": {},
   "outputs": [
    {
     "name": "stdout",
     "output_type": "stream",
     "text": [
      "Epoch 1/20\n",
      "396/396 [==============================] - 9s 11ms/step - loss: 0.5948 - accuracy: 0.7366 - AUC: 0.8935 - sensitivity: 0.7321 - specificity: 0.8706 - val_loss: 0.5691 - val_accuracy: 0.7557 - val_AUC: 0.9089 - val_sensitivity: 0.7497 - val_specificity: 0.8806\n",
      "Epoch 2/20\n",
      "396/396 [==============================] - 3s 8ms/step - loss: 0.5595 - accuracy: 0.7506 - AUC: 0.9049 - sensitivity: 0.7484 - specificity: 0.8763 - val_loss: 0.5563 - val_accuracy: 0.7557 - val_AUC: 0.9093 - val_sensitivity: 0.7548 - val_specificity: 0.8782\n",
      "Epoch 3/20\n",
      "396/396 [==============================] - 3s 8ms/step - loss: 0.5505 - accuracy: 0.7534 - AUC: 0.9078 - sensitivity: 0.7510 - specificity: 0.8778 - val_loss: 0.5407 - val_accuracy: 0.7655 - val_AUC: 0.9145 - val_sensitivity: 0.7625 - val_specificity: 0.8847\n",
      "Epoch 4/20\n",
      "396/396 [==============================] - 3s 8ms/step - loss: 0.5437 - accuracy: 0.7579 - AUC: 0.9101 - sensitivity: 0.7556 - specificity: 0.8799 - val_loss: 0.5545 - val_accuracy: 0.7591 - val_AUC: 0.9122 - val_sensitivity: 0.7586 - val_specificity: 0.8799\n",
      "Epoch 5/20\n",
      "396/396 [==============================] - 3s 8ms/step - loss: 0.5369 - accuracy: 0.7592 - AUC: 0.9123 - sensitivity: 0.7570 - specificity: 0.8806 - val_loss: 0.5356 - val_accuracy: 0.7629 - val_AUC: 0.9142 - val_sensitivity: 0.7605 - val_specificity: 0.8822\n",
      "Epoch 6/20\n",
      "396/396 [==============================] - 3s 8ms/step - loss: 0.5327 - accuracy: 0.7618 - AUC: 0.9137 - sensitivity: 0.7599 - specificity: 0.8820 - val_loss: 0.5245 - val_accuracy: 0.7682 - val_AUC: 0.9179 - val_sensitivity: 0.7666 - val_specificity: 0.8852\n",
      "Epoch 7/20\n",
      "396/396 [==============================] - 3s 8ms/step - loss: 0.5304 - accuracy: 0.7623 - AUC: 0.9144 - sensitivity: 0.7602 - specificity: 0.8823 - val_loss: 0.5373 - val_accuracy: 0.7608 - val_AUC: 0.9144 - val_sensitivity: 0.7595 - val_specificity: 0.8812\n",
      "Epoch 8/20\n",
      "396/396 [==============================] - 3s 8ms/step - loss: 0.5248 - accuracy: 0.7673 - AUC: 0.9163 - sensitivity: 0.7655 - specificity: 0.8847 - val_loss: 0.5239 - val_accuracy: 0.7692 - val_AUC: 0.9181 - val_sensitivity: 0.7668 - val_specificity: 0.8857\n",
      "Epoch 9/20\n",
      "396/396 [==============================] - 3s 8ms/step - loss: 0.5181 - accuracy: 0.7696 - AUC: 0.9184 - sensitivity: 0.7673 - specificity: 0.8859 - val_loss: 0.5206 - val_accuracy: 0.7708 - val_AUC: 0.9195 - val_sensitivity: 0.7698 - val_specificity: 0.8866\n",
      "Epoch 10/20\n",
      "396/396 [==============================] - 3s 8ms/step - loss: 0.5153 - accuracy: 0.7688 - AUC: 0.9192 - sensitivity: 0.7667 - specificity: 0.8852 - val_loss: 0.5289 - val_accuracy: 0.7731 - val_AUC: 0.9175 - val_sensitivity: 0.7714 - val_specificity: 0.8870\n",
      "Epoch 11/20\n",
      "396/396 [==============================] - 3s 8ms/step - loss: 0.5113 - accuracy: 0.7709 - AUC: 0.9205 - sensitivity: 0.7690 - specificity: 0.8864 - val_loss: 0.5217 - val_accuracy: 0.7740 - val_AUC: 0.9190 - val_sensitivity: 0.7730 - val_specificity: 0.8880\n",
      "Epoch 12/20\n",
      "396/396 [==============================] - 3s 8ms/step - loss: 0.5100 - accuracy: 0.7716 - AUC: 0.9208 - sensitivity: 0.7699 - specificity: 0.8868 - val_loss: 0.5118 - val_accuracy: 0.7780 - val_AUC: 0.9221 - val_sensitivity: 0.7766 - val_specificity: 0.8899\n",
      "Epoch 13/20\n",
      "396/396 [==============================] - 3s 8ms/step - loss: 0.5019 - accuracy: 0.7757 - AUC: 0.9233 - sensitivity: 0.7737 - specificity: 0.8888 - val_loss: 0.5112 - val_accuracy: 0.7741 - val_AUC: 0.9227 - val_sensitivity: 0.7734 - val_specificity: 0.8876\n",
      "Epoch 14/20\n",
      "396/396 [==============================] - 3s 8ms/step - loss: 0.4997 - accuracy: 0.7777 - AUC: 0.9239 - sensitivity: 0.7763 - specificity: 0.8896 - val_loss: 0.5235 - val_accuracy: 0.7775 - val_AUC: 0.9212 - val_sensitivity: 0.7755 - val_specificity: 0.8897\n",
      "Epoch 15/20\n",
      "396/396 [==============================] - 3s 8ms/step - loss: 0.4957 - accuracy: 0.7786 - AUC: 0.9253 - sensitivity: 0.7771 - specificity: 0.8901 - val_loss: 0.5136 - val_accuracy: 0.7768 - val_AUC: 0.9220 - val_sensitivity: 0.7746 - val_specificity: 0.8900\n",
      "Epoch 16/20\n",
      "396/396 [==============================] - 3s 8ms/step - loss: 0.4902 - accuracy: 0.7810 - AUC: 0.9269 - sensitivity: 0.7794 - specificity: 0.8913 - val_loss: 0.5175 - val_accuracy: 0.7757 - val_AUC: 0.9207 - val_sensitivity: 0.7739 - val_specificity: 0.8888\n",
      "Epoch 17/20\n",
      "396/396 [==============================] - 3s 8ms/step - loss: 0.4874 - accuracy: 0.7824 - AUC: 0.9277 - sensitivity: 0.7808 - specificity: 0.8920 - val_loss: 0.5093 - val_accuracy: 0.7779 - val_AUC: 0.9233 - val_sensitivity: 0.7769 - val_specificity: 0.8893\n",
      "Epoch 18/20\n",
      "396/396 [==============================] - 3s 8ms/step - loss: 0.4810 - accuracy: 0.7849 - AUC: 0.9294 - sensitivity: 0.7835 - specificity: 0.8932 - val_loss: 0.5104 - val_accuracy: 0.7785 - val_AUC: 0.9230 - val_sensitivity: 0.7768 - val_specificity: 0.8900\n",
      "Epoch 19/20\n",
      "396/396 [==============================] - 3s 8ms/step - loss: 0.4780 - accuracy: 0.7856 - AUC: 0.9304 - sensitivity: 0.7843 - specificity: 0.8937 - val_loss: 0.5380 - val_accuracy: 0.7626 - val_AUC: 0.9140 - val_sensitivity: 0.7592 - val_specificity: 0.8832\n",
      "Epoch 20/20\n",
      "396/396 [==============================] - 3s 8ms/step - loss: 0.4731 - accuracy: 0.7874 - AUC: 0.9317 - sensitivity: 0.7857 - specificity: 0.8945 - val_loss: 0.5096 - val_accuracy: 0.7806 - val_AUC: 0.9240 - val_sensitivity: 0.7790 - val_specificity: 0.8912\n",
      "220/220 [==============================] - 1s 6ms/step - loss: 0.5125 - accuracy: 0.7791 - AUC: 0.9227 - sensitivity: 0.7780 - specificity: 0.8903\n",
      "Epoch 1/20\n",
      "396/396 [==============================] - 5s 10ms/step - loss: 0.5939 - accuracy: 0.7363 - AUC: 0.8943 - sensitivity: 0.7320 - specificity: 0.8706 - val_loss: 0.5748 - val_accuracy: 0.7343 - val_AUC: 0.9030 - val_sensitivity: 0.7334 - val_specificity: 0.8674\n",
      "Epoch 2/20\n",
      "396/396 [==============================] - 3s 8ms/step - loss: 0.5586 - accuracy: 0.7502 - AUC: 0.9057 - sensitivity: 0.7478 - specificity: 0.8761 - val_loss: 0.5664 - val_accuracy: 0.7473 - val_AUC: 0.9055 - val_sensitivity: 0.7417 - val_specificity: 0.8756\n",
      "Epoch 3/20\n",
      "396/396 [==============================] - 3s 8ms/step - loss: 0.5489 - accuracy: 0.7534 - AUC: 0.9088 - sensitivity: 0.7509 - specificity: 0.8781 - val_loss: 0.5493 - val_accuracy: 0.7505 - val_AUC: 0.9082 - val_sensitivity: 0.7469 - val_specificity: 0.8764\n",
      "Epoch 4/20\n",
      "396/396 [==============================] - 3s 8ms/step - loss: 0.5407 - accuracy: 0.7585 - AUC: 0.9112 - sensitivity: 0.7563 - specificity: 0.8804 - val_loss: 0.5423 - val_accuracy: 0.7560 - val_AUC: 0.9110 - val_sensitivity: 0.7537 - val_specificity: 0.8788\n",
      "Epoch 5/20\n",
      "396/396 [==============================] - 3s 8ms/step - loss: 0.5332 - accuracy: 0.7617 - AUC: 0.9141 - sensitivity: 0.7599 - specificity: 0.8820 - val_loss: 0.5633 - val_accuracy: 0.7488 - val_AUC: 0.9100 - val_sensitivity: 0.7478 - val_specificity: 0.8750\n",
      "Epoch 6/20\n",
      "396/396 [==============================] - 3s 8ms/step - loss: 0.5316 - accuracy: 0.7652 - AUC: 0.9146 - sensitivity: 0.7630 - specificity: 0.8837 - val_loss: 0.5411 - val_accuracy: 0.7599 - val_AUC: 0.9116 - val_sensitivity: 0.7574 - val_specificity: 0.8811\n",
      "Epoch 7/20\n",
      "396/396 [==============================] - 3s 8ms/step - loss: 0.5246 - accuracy: 0.7675 - AUC: 0.9167 - sensitivity: 0.7656 - specificity: 0.8849 - val_loss: 0.5391 - val_accuracy: 0.7594 - val_AUC: 0.9127 - val_sensitivity: 0.7581 - val_specificity: 0.8804\n",
      "Epoch 8/20\n",
      "396/396 [==============================] - 3s 8ms/step - loss: 0.5187 - accuracy: 0.7693 - AUC: 0.9186 - sensitivity: 0.7676 - specificity: 0.8859 - val_loss: 0.5306 - val_accuracy: 0.7625 - val_AUC: 0.9149 - val_sensitivity: 0.7607 - val_specificity: 0.8824\n",
      "Epoch 9/20\n",
      "396/396 [==============================] - 3s 8ms/step - loss: 0.5176 - accuracy: 0.7716 - AUC: 0.9189 - sensitivity: 0.7692 - specificity: 0.8870 - val_loss: 0.5402 - val_accuracy: 0.7560 - val_AUC: 0.9117 - val_sensitivity: 0.7534 - val_specificity: 0.8794\n",
      "Epoch 10/20\n",
      "396/396 [==============================] - 3s 8ms/step - loss: 0.5091 - accuracy: 0.7731 - AUC: 0.9215 - sensitivity: 0.7711 - specificity: 0.8877 - val_loss: 0.5356 - val_accuracy: 0.7592 - val_AUC: 0.9134 - val_sensitivity: 0.7589 - val_specificity: 0.8796\n",
      "Epoch 11/20\n",
      "396/396 [==============================] - 3s 8ms/step - loss: 0.5065 - accuracy: 0.7752 - AUC: 0.9223 - sensitivity: 0.7736 - specificity: 0.8887 - val_loss: 0.5265 - val_accuracy: 0.7614 - val_AUC: 0.9162 - val_sensitivity: 0.7604 - val_specificity: 0.8812\n",
      "Epoch 12/20\n",
      "396/396 [==============================] - 3s 8ms/step - loss: 0.5032 - accuracy: 0.7776 - AUC: 0.9232 - sensitivity: 0.7755 - specificity: 0.8899 - val_loss: 0.5255 - val_accuracy: 0.7664 - val_AUC: 0.9175 - val_sensitivity: 0.7651 - val_specificity: 0.8837\n",
      "Epoch 13/20\n",
      "396/396 [==============================] - 3s 8ms/step - loss: 0.4957 - accuracy: 0.7793 - AUC: 0.9254 - sensitivity: 0.7773 - specificity: 0.8905 - val_loss: 0.5405 - val_accuracy: 0.7610 - val_AUC: 0.9146 - val_sensitivity: 0.7591 - val_specificity: 0.8815\n",
      "Epoch 14/20\n",
      "396/396 [==============================] - 3s 8ms/step - loss: 0.4921 - accuracy: 0.7808 - AUC: 0.9266 - sensitivity: 0.7788 - specificity: 0.8912 - val_loss: 0.5189 - val_accuracy: 0.7688 - val_AUC: 0.9183 - val_sensitivity: 0.7681 - val_specificity: 0.8851\n",
      "Epoch 15/20\n",
      "396/396 [==============================] - 3s 8ms/step - loss: 0.4875 - accuracy: 0.7836 - AUC: 0.9279 - sensitivity: 0.7820 - specificity: 0.8928 - val_loss: 0.5272 - val_accuracy: 0.7642 - val_AUC: 0.9171 - val_sensitivity: 0.7627 - val_specificity: 0.8828\n",
      "Epoch 16/20\n",
      "396/396 [==============================] - 3s 8ms/step - loss: 0.4827 - accuracy: 0.7857 - AUC: 0.9293 - sensitivity: 0.7838 - specificity: 0.8938 - val_loss: 0.5375 - val_accuracy: 0.7668 - val_AUC: 0.9170 - val_sensitivity: 0.7655 - val_specificity: 0.8843\n",
      "Epoch 17/20\n",
      "396/396 [==============================] - 3s 8ms/step - loss: 0.4773 - accuracy: 0.7879 - AUC: 0.9308 - sensitivity: 0.7861 - specificity: 0.8947 - val_loss: 0.5372 - val_accuracy: 0.7630 - val_AUC: 0.9144 - val_sensitivity: 0.7624 - val_specificity: 0.8819\n",
      "Epoch 18/20\n",
      "396/396 [==============================] - 3s 8ms/step - loss: 0.4729 - accuracy: 0.7908 - AUC: 0.9321 - sensitivity: 0.7894 - specificity: 0.8964 - val_loss: 0.5300 - val_accuracy: 0.7663 - val_AUC: 0.9174 - val_sensitivity: 0.7644 - val_specificity: 0.8839\n",
      "Epoch 19/20\n",
      "396/396 [==============================] - 3s 8ms/step - loss: 0.4679 - accuracy: 0.7935 - AUC: 0.9335 - sensitivity: 0.7921 - specificity: 0.8976 - val_loss: 0.5460 - val_accuracy: 0.7651 - val_AUC: 0.9149 - val_sensitivity: 0.7639 - val_specificity: 0.8834\n",
      "Epoch 20/20\n",
      "396/396 [==============================] - 3s 8ms/step - loss: 0.4638 - accuracy: 0.7948 - AUC: 0.9349 - sensitivity: 0.7933 - specificity: 0.8982 - val_loss: 0.5291 - val_accuracy: 0.7671 - val_AUC: 0.9176 - val_sensitivity: 0.7663 - val_specificity: 0.8840\n",
      "220/220 [==============================] - 1s 6ms/step - loss: 0.5133 - accuracy: 0.7771 - AUC: 0.9224 - sensitivity: 0.7764 - specificity: 0.8887\n",
      "Epoch 1/20\n",
      "396/396 [==============================] - 4s 9ms/step - loss: 0.5949 - accuracy: 0.7358 - AUC: 0.8938 - sensitivity: 0.7321 - specificity: 0.8708 - val_loss: 0.5737 - val_accuracy: 0.7442 - val_AUC: 0.9021 - val_sensitivity: 0.7397 - val_specificity: 0.8738\n",
      "Epoch 2/20\n",
      "396/396 [==============================] - 3s 8ms/step - loss: 0.5608 - accuracy: 0.7497 - AUC: 0.9047 - sensitivity: 0.7469 - specificity: 0.8762 - val_loss: 0.5566 - val_accuracy: 0.7516 - val_AUC: 0.9067 - val_sensitivity: 0.7480 - val_specificity: 0.8777\n",
      "Epoch 3/20\n",
      "396/396 [==============================] - 3s 8ms/step - loss: 0.5475 - accuracy: 0.7561 - AUC: 0.9092 - sensitivity: 0.7542 - specificity: 0.8791 - val_loss: 0.5478 - val_accuracy: 0.7546 - val_AUC: 0.9093 - val_sensitivity: 0.7511 - val_specificity: 0.8792\n",
      "Epoch 4/20\n",
      "396/396 [==============================] - 3s 8ms/step - loss: 0.5434 - accuracy: 0.7566 - AUC: 0.9107 - sensitivity: 0.7544 - specificity: 0.8796 - val_loss: 0.5454 - val_accuracy: 0.7607 - val_AUC: 0.9106 - val_sensitivity: 0.7591 - val_specificity: 0.8806\n",
      "Epoch 5/20\n",
      "396/396 [==============================] - 3s 8ms/step - loss: 0.5340 - accuracy: 0.7616 - AUC: 0.9134 - sensitivity: 0.7596 - specificity: 0.8819 - val_loss: 0.5464 - val_accuracy: 0.7622 - val_AUC: 0.9120 - val_sensitivity: 0.7615 - val_specificity: 0.8815\n",
      "Epoch 6/20\n",
      "396/396 [==============================] - 3s 8ms/step - loss: 0.5342 - accuracy: 0.7609 - AUC: 0.9134 - sensitivity: 0.7585 - specificity: 0.8816 - val_loss: 0.5445 - val_accuracy: 0.7584 - val_AUC: 0.9120 - val_sensitivity: 0.7567 - val_specificity: 0.8797\n",
      "Epoch 7/20\n",
      "396/396 [==============================] - 3s 8ms/step - loss: 0.5249 - accuracy: 0.7647 - AUC: 0.9164 - sensitivity: 0.7630 - specificity: 0.8834 - val_loss: 0.5340 - val_accuracy: 0.7644 - val_AUC: 0.9141 - val_sensitivity: 0.7628 - val_specificity: 0.8824\n",
      "Epoch 8/20\n",
      "396/396 [==============================] - 3s 8ms/step - loss: 0.5227 - accuracy: 0.7649 - AUC: 0.9171 - sensitivity: 0.7629 - specificity: 0.8834 - val_loss: 0.5311 - val_accuracy: 0.7630 - val_AUC: 0.9151 - val_sensitivity: 0.7586 - val_specificity: 0.8842\n",
      "Epoch 9/20\n",
      "396/396 [==============================] - 3s 8ms/step - loss: 0.5154 - accuracy: 0.7701 - AUC: 0.9195 - sensitivity: 0.7680 - specificity: 0.8862 - val_loss: 0.5340 - val_accuracy: 0.7647 - val_AUC: 0.9140 - val_sensitivity: 0.7606 - val_specificity: 0.8843\n",
      "Epoch 10/20\n",
      "396/396 [==============================] - 3s 8ms/step - loss: 0.5113 - accuracy: 0.7719 - AUC: 0.9208 - sensitivity: 0.7698 - specificity: 0.8869 - val_loss: 0.5313 - val_accuracy: 0.7638 - val_AUC: 0.9160 - val_sensitivity: 0.7625 - val_specificity: 0.8831\n",
      "Epoch 11/20\n",
      "396/396 [==============================] - 3s 8ms/step - loss: 0.5090 - accuracy: 0.7735 - AUC: 0.9214 - sensitivity: 0.7711 - specificity: 0.8880 - val_loss: 0.5403 - val_accuracy: 0.7601 - val_AUC: 0.9133 - val_sensitivity: 0.7585 - val_specificity: 0.8808\n",
      "Epoch 12/20\n",
      "396/396 [==============================] - 3s 8ms/step - loss: 0.5020 - accuracy: 0.7744 - AUC: 0.9234 - sensitivity: 0.7725 - specificity: 0.8882 - val_loss: 0.5382 - val_accuracy: 0.7579 - val_AUC: 0.9151 - val_sensitivity: 0.7564 - val_specificity: 0.8796\n",
      "Epoch 13/20\n",
      "396/396 [==============================] - 3s 8ms/step - loss: 0.4999 - accuracy: 0.7762 - AUC: 0.9241 - sensitivity: 0.7746 - specificity: 0.8890 - val_loss: 0.5298 - val_accuracy: 0.7620 - val_AUC: 0.9159 - val_sensitivity: 0.7603 - val_specificity: 0.8816\n",
      "Epoch 14/20\n",
      "396/396 [==============================] - 3s 8ms/step - loss: 0.4928 - accuracy: 0.7790 - AUC: 0.9263 - sensitivity: 0.7771 - specificity: 0.8904 - val_loss: 0.5205 - val_accuracy: 0.7702 - val_AUC: 0.9187 - val_sensitivity: 0.7692 - val_specificity: 0.8861\n",
      "Epoch 15/20\n",
      "396/396 [==============================] - 3s 8ms/step - loss: 0.4888 - accuracy: 0.7820 - AUC: 0.9274 - sensitivity: 0.7801 - specificity: 0.8919 - val_loss: 0.5258 - val_accuracy: 0.7685 - val_AUC: 0.9176 - val_sensitivity: 0.7673 - val_specificity: 0.8849\n",
      "Epoch 16/20\n",
      "396/396 [==============================] - 3s 8ms/step - loss: 0.4860 - accuracy: 0.7827 - AUC: 0.9282 - sensitivity: 0.7811 - specificity: 0.8921 - val_loss: 0.5249 - val_accuracy: 0.7678 - val_AUC: 0.9173 - val_sensitivity: 0.7660 - val_specificity: 0.8848\n",
      "Epoch 17/20\n",
      "396/396 [==============================] - 3s 8ms/step - loss: 0.4812 - accuracy: 0.7865 - AUC: 0.9296 - sensitivity: 0.7850 - specificity: 0.8940 - val_loss: 0.5272 - val_accuracy: 0.7653 - val_AUC: 0.9167 - val_sensitivity: 0.7630 - val_specificity: 0.8834\n",
      "Epoch 18/20\n",
      "396/396 [==============================] - 3s 8ms/step - loss: 0.4786 - accuracy: 0.7874 - AUC: 0.9302 - sensitivity: 0.7862 - specificity: 0.8944 - val_loss: 0.5235 - val_accuracy: 0.7694 - val_AUC: 0.9190 - val_sensitivity: 0.7680 - val_specificity: 0.8852\n",
      "Epoch 19/20\n",
      "396/396 [==============================] - 3s 8ms/step - loss: 0.4726 - accuracy: 0.7903 - AUC: 0.9321 - sensitivity: 0.7889 - specificity: 0.8959 - val_loss: 0.5426 - val_accuracy: 0.7688 - val_AUC: 0.9170 - val_sensitivity: 0.7680 - val_specificity: 0.8847\n",
      "Epoch 20/20\n",
      "396/396 [==============================] - 3s 8ms/step - loss: 0.4692 - accuracy: 0.7906 - AUC: 0.9330 - sensitivity: 0.7894 - specificity: 0.8962 - val_loss: 0.5459 - val_accuracy: 0.7638 - val_AUC: 0.9160 - val_sensitivity: 0.7633 - val_specificity: 0.8823\n",
      "220/220 [==============================] - 1s 6ms/step - loss: 0.5302 - accuracy: 0.7703 - AUC: 0.9199 - sensitivity: 0.7687 - specificity: 0.8856\n",
      "Epoch 1/20\n",
      "396/396 [==============================] - 5s 10ms/step - loss: 0.5965 - accuracy: 0.7363 - AUC: 0.8936 - sensitivity: 0.7321 - specificity: 0.8709 - val_loss: 0.5650 - val_accuracy: 0.7524 - val_AUC: 0.9060 - val_sensitivity: 0.7452 - val_specificity: 0.8787\n",
      "Epoch 2/20\n",
      "396/396 [==============================] - 3s 8ms/step - loss: 0.5611 - accuracy: 0.7499 - AUC: 0.9048 - sensitivity: 0.7470 - specificity: 0.8761 - val_loss: 0.5484 - val_accuracy: 0.7590 - val_AUC: 0.9103 - val_sensitivity: 0.7572 - val_specificity: 0.8804\n",
      "Epoch 3/20\n",
      "396/396 [==============================] - 3s 8ms/step - loss: 0.5483 - accuracy: 0.7553 - AUC: 0.9089 - sensitivity: 0.7529 - specificity: 0.8788 - val_loss: 0.5451 - val_accuracy: 0.7628 - val_AUC: 0.9136 - val_sensitivity: 0.7547 - val_specificity: 0.8847\n",
      "Epoch 4/20\n",
      "396/396 [==============================] - 3s 8ms/step - loss: 0.5440 - accuracy: 0.7581 - AUC: 0.9102 - sensitivity: 0.7552 - specificity: 0.8801 - val_loss: 0.5352 - val_accuracy: 0.7578 - val_AUC: 0.9132 - val_sensitivity: 0.7561 - val_specificity: 0.8798\n",
      "Epoch 5/20\n",
      "396/396 [==============================] - 4s 9ms/step - loss: 0.5354 - accuracy: 0.7612 - AUC: 0.9132 - sensitivity: 0.7588 - specificity: 0.8818 - val_loss: 0.5296 - val_accuracy: 0.7595 - val_AUC: 0.9156 - val_sensitivity: 0.7571 - val_specificity: 0.8809\n",
      "Epoch 6/20\n",
      "396/396 [==============================] - 3s 8ms/step - loss: 0.5304 - accuracy: 0.7647 - AUC: 0.9148 - sensitivity: 0.7627 - specificity: 0.8836 - val_loss: 0.5251 - val_accuracy: 0.7624 - val_AUC: 0.9168 - val_sensitivity: 0.7611 - val_specificity: 0.8822\n",
      "Epoch 7/20\n",
      "396/396 [==============================] - 3s 8ms/step - loss: 0.5280 - accuracy: 0.7641 - AUC: 0.9156 - sensitivity: 0.7619 - specificity: 0.8833 - val_loss: 0.5423 - val_accuracy: 0.7561 - val_AUC: 0.9136 - val_sensitivity: 0.7534 - val_specificity: 0.8795\n",
      "Epoch 8/20\n",
      "396/396 [==============================] - 3s 8ms/step - loss: 0.5225 - accuracy: 0.7665 - AUC: 0.9173 - sensitivity: 0.7642 - specificity: 0.8843 - val_loss: 0.5464 - val_accuracy: 0.7515 - val_AUC: 0.9135 - val_sensitivity: 0.7505 - val_specificity: 0.8762\n",
      "Epoch 9/20\n",
      "396/396 [==============================] - 3s 8ms/step - loss: 0.5204 - accuracy: 0.7676 - AUC: 0.9178 - sensitivity: 0.7652 - specificity: 0.8851 - val_loss: 0.5223 - val_accuracy: 0.7681 - val_AUC: 0.9184 - val_sensitivity: 0.7642 - val_specificity: 0.8861\n",
      "Epoch 10/20\n",
      "396/396 [==============================] - 3s 8ms/step - loss: 0.5113 - accuracy: 0.7719 - AUC: 0.9208 - sensitivity: 0.7699 - specificity: 0.8870 - val_loss: 0.5192 - val_accuracy: 0.7683 - val_AUC: 0.9194 - val_sensitivity: 0.7645 - val_specificity: 0.8858\n",
      "Epoch 11/20\n",
      "396/396 [==============================] - 3s 8ms/step - loss: 0.5105 - accuracy: 0.7729 - AUC: 0.9210 - sensitivity: 0.7711 - specificity: 0.8875 - val_loss: 0.5183 - val_accuracy: 0.7668 - val_AUC: 0.9191 - val_sensitivity: 0.7655 - val_specificity: 0.8840\n",
      "Epoch 12/20\n",
      "396/396 [==============================] - 3s 8ms/step - loss: 0.5048 - accuracy: 0.7762 - AUC: 0.9226 - sensitivity: 0.7742 - specificity: 0.8893 - val_loss: 0.5184 - val_accuracy: 0.7648 - val_AUC: 0.9193 - val_sensitivity: 0.7633 - val_specificity: 0.8835\n",
      "Epoch 13/20\n",
      "396/396 [==============================] - 3s 8ms/step - loss: 0.4998 - accuracy: 0.7768 - AUC: 0.9242 - sensitivity: 0.7747 - specificity: 0.8895 - val_loss: 0.5129 - val_accuracy: 0.7710 - val_AUC: 0.9202 - val_sensitivity: 0.7698 - val_specificity: 0.8859\n",
      "Epoch 14/20\n",
      "396/396 [==============================] - 4s 9ms/step - loss: 0.4941 - accuracy: 0.7798 - AUC: 0.9259 - sensitivity: 0.7779 - specificity: 0.8910 - val_loss: 0.5245 - val_accuracy: 0.7630 - val_AUC: 0.9191 - val_sensitivity: 0.7619 - val_specificity: 0.8820\n",
      "Epoch 15/20\n",
      "396/396 [==============================] - 3s 9ms/step - loss: 0.4903 - accuracy: 0.7815 - AUC: 0.9272 - sensitivity: 0.7795 - specificity: 0.8918 - val_loss: 0.5423 - val_accuracy: 0.7564 - val_AUC: 0.9161 - val_sensitivity: 0.7539 - val_specificity: 0.8795\n",
      "Epoch 16/20\n",
      "396/396 [==============================] - 3s 8ms/step - loss: 0.4864 - accuracy: 0.7847 - AUC: 0.9281 - sensitivity: 0.7829 - specificity: 0.8932 - val_loss: 0.5170 - val_accuracy: 0.7723 - val_AUC: 0.9192 - val_sensitivity: 0.7698 - val_specificity: 0.8870\n",
      "Epoch 17/20\n",
      "396/396 [==============================] - 3s 8ms/step - loss: 0.4829 - accuracy: 0.7843 - AUC: 0.9290 - sensitivity: 0.7825 - specificity: 0.8931 - val_loss: 0.5224 - val_accuracy: 0.7693 - val_AUC: 0.9202 - val_sensitivity: 0.7680 - val_specificity: 0.8850\n",
      "Epoch 18/20\n",
      "396/396 [==============================] - 3s 8ms/step - loss: 0.4765 - accuracy: 0.7880 - AUC: 0.9309 - sensitivity: 0.7862 - specificity: 0.8950 - val_loss: 0.5356 - val_accuracy: 0.7558 - val_AUC: 0.9121 - val_sensitivity: 0.7532 - val_specificity: 0.8791\n",
      "Epoch 19/20\n",
      "396/396 [==============================] - 3s 8ms/step - loss: 0.4731 - accuracy: 0.7885 - AUC: 0.9318 - sensitivity: 0.7872 - specificity: 0.8951 - val_loss: 0.5172 - val_accuracy: 0.7707 - val_AUC: 0.9200 - val_sensitivity: 0.7687 - val_specificity: 0.8867\n",
      "Epoch 20/20\n",
      "396/396 [==============================] - 3s 8ms/step - loss: 0.4664 - accuracy: 0.7918 - AUC: 0.9339 - sensitivity: 0.7902 - specificity: 0.8969 - val_loss: 0.5124 - val_accuracy: 0.7727 - val_AUC: 0.9225 - val_sensitivity: 0.7717 - val_specificity: 0.8868\n",
      "220/220 [==============================] - 1s 6ms/step - loss: 0.5089 - accuracy: 0.7800 - AUC: 0.9242 - sensitivity: 0.7788 - specificity: 0.8908\n",
      "Epoch 1/20\n",
      "396/396 [==============================] - 5s 10ms/step - loss: 0.5914 - accuracy: 0.7366 - AUC: 0.8952 - sensitivity: 0.7324 - specificity: 0.8708 - val_loss: 0.5673 - val_accuracy: 0.7432 - val_AUC: 0.9026 - val_sensitivity: 0.7391 - val_specificity: 0.8734\n",
      "Epoch 2/20\n",
      "396/396 [==============================] - 3s 9ms/step - loss: 0.5582 - accuracy: 0.7523 - AUC: 0.9057 - sensitivity: 0.7497 - specificity: 0.8773 - val_loss: 0.5740 - val_accuracy: 0.7370 - val_AUC: 0.9001 - val_sensitivity: 0.7367 - val_specificity: 0.8690\n",
      "Epoch 3/20\n",
      "396/396 [==============================] - 3s 8ms/step - loss: 0.5473 - accuracy: 0.7560 - AUC: 0.9093 - sensitivity: 0.7534 - specificity: 0.8792 - val_loss: 0.5448 - val_accuracy: 0.7566 - val_AUC: 0.9098 - val_sensitivity: 0.7538 - val_specificity: 0.8796\n",
      "Epoch 4/20\n",
      "396/396 [==============================] - 3s 8ms/step - loss: 0.5375 - accuracy: 0.7594 - AUC: 0.9125 - sensitivity: 0.7577 - specificity: 0.8807 - val_loss: 0.5531 - val_accuracy: 0.7543 - val_AUC: 0.9076 - val_sensitivity: 0.7527 - val_specificity: 0.8780\n",
      "Epoch 5/20\n",
      "396/396 [==============================] - 3s 8ms/step - loss: 0.5320 - accuracy: 0.7633 - AUC: 0.9143 - sensitivity: 0.7609 - specificity: 0.8827 - val_loss: 0.5531 - val_accuracy: 0.7488 - val_AUC: 0.9083 - val_sensitivity: 0.7439 - val_specificity: 0.8764\n",
      "Epoch 6/20\n",
      "396/396 [==============================] - 3s 8ms/step - loss: 0.5265 - accuracy: 0.7654 - AUC: 0.9159 - sensitivity: 0.7628 - specificity: 0.8838 - val_loss: 0.5626 - val_accuracy: 0.7571 - val_AUC: 0.9096 - val_sensitivity: 0.7561 - val_specificity: 0.8789\n",
      "Epoch 7/20\n",
      "396/396 [==============================] - 3s 8ms/step - loss: 0.5220 - accuracy: 0.7676 - AUC: 0.9175 - sensitivity: 0.7655 - specificity: 0.8850 - val_loss: 0.5379 - val_accuracy: 0.7577 - val_AUC: 0.9131 - val_sensitivity: 0.7553 - val_specificity: 0.8800\n",
      "Epoch 8/20\n",
      "396/396 [==============================] - 3s 8ms/step - loss: 0.5188 - accuracy: 0.7671 - AUC: 0.9183 - sensitivity: 0.7649 - specificity: 0.8846 - val_loss: 0.5601 - val_accuracy: 0.7608 - val_AUC: 0.9102 - val_sensitivity: 0.7600 - val_specificity: 0.8805\n",
      "Epoch 9/20\n",
      "396/396 [==============================] - 3s 8ms/step - loss: 0.5151 - accuracy: 0.7702 - AUC: 0.9198 - sensitivity: 0.7682 - specificity: 0.8861 - val_loss: 0.5440 - val_accuracy: 0.7607 - val_AUC: 0.9134 - val_sensitivity: 0.7592 - val_specificity: 0.8815\n",
      "Epoch 10/20\n",
      "396/396 [==============================] - 3s 8ms/step - loss: 0.5088 - accuracy: 0.7742 - AUC: 0.9216 - sensitivity: 0.7720 - specificity: 0.8882 - val_loss: 0.5386 - val_accuracy: 0.7621 - val_AUC: 0.9142 - val_sensitivity: 0.7602 - val_specificity: 0.8823\n",
      "Epoch 11/20\n",
      "396/396 [==============================] - 3s 8ms/step - loss: 0.5016 - accuracy: 0.7766 - AUC: 0.9237 - sensitivity: 0.7748 - specificity: 0.8893 - val_loss: 0.5358 - val_accuracy: 0.7634 - val_AUC: 0.9142 - val_sensitivity: 0.7627 - val_specificity: 0.8822\n",
      "Epoch 12/20\n",
      "396/396 [==============================] - 3s 8ms/step - loss: 0.4978 - accuracy: 0.7791 - AUC: 0.9247 - sensitivity: 0.7773 - specificity: 0.8904 - val_loss: 0.5383 - val_accuracy: 0.7613 - val_AUC: 0.9133 - val_sensitivity: 0.7591 - val_specificity: 0.8815\n",
      "Epoch 13/20\n",
      "396/396 [==============================] - 3s 8ms/step - loss: 0.4933 - accuracy: 0.7799 - AUC: 0.9261 - sensitivity: 0.7782 - specificity: 0.8909 - val_loss: 0.5311 - val_accuracy: 0.7596 - val_AUC: 0.9148 - val_sensitivity: 0.7584 - val_specificity: 0.8805\n",
      "Epoch 14/20\n",
      "396/396 [==============================] - 3s 8ms/step - loss: 0.4885 - accuracy: 0.7817 - AUC: 0.9273 - sensitivity: 0.7800 - specificity: 0.8917 - val_loss: 0.5393 - val_accuracy: 0.7626 - val_AUC: 0.9146 - val_sensitivity: 0.7594 - val_specificity: 0.8831\n",
      "Epoch 15/20\n",
      "396/396 [==============================] - 3s 8ms/step - loss: 0.4820 - accuracy: 0.7842 - AUC: 0.9295 - sensitivity: 0.7823 - specificity: 0.8930 - val_loss: 0.5321 - val_accuracy: 0.7589 - val_AUC: 0.9145 - val_sensitivity: 0.7574 - val_specificity: 0.8804\n",
      "Epoch 16/20\n",
      "396/396 [==============================] - 3s 8ms/step - loss: 0.4800 - accuracy: 0.7866 - AUC: 0.9300 - sensitivity: 0.7848 - specificity: 0.8942 - val_loss: 0.5397 - val_accuracy: 0.7555 - val_AUC: 0.9126 - val_sensitivity: 0.7541 - val_specificity: 0.8787\n",
      "Epoch 17/20\n",
      "396/396 [==============================] - 3s 8ms/step - loss: 0.4769 - accuracy: 0.7894 - AUC: 0.9307 - sensitivity: 0.7876 - specificity: 0.8956 - val_loss: 0.5371 - val_accuracy: 0.7673 - val_AUC: 0.9161 - val_sensitivity: 0.7654 - val_specificity: 0.8843\n",
      "Epoch 18/20\n",
      "396/396 [==============================] - 3s 8ms/step - loss: 0.4697 - accuracy: 0.7893 - AUC: 0.9327 - sensitivity: 0.7878 - specificity: 0.8954 - val_loss: 0.5508 - val_accuracy: 0.7609 - val_AUC: 0.9137 - val_sensitivity: 0.7603 - val_specificity: 0.8810\n",
      "Epoch 19/20\n",
      "396/396 [==============================] - 3s 8ms/step - loss: 0.4676 - accuracy: 0.7925 - AUC: 0.9334 - sensitivity: 0.7907 - specificity: 0.8970 - val_loss: 0.5436 - val_accuracy: 0.7588 - val_AUC: 0.9124 - val_sensitivity: 0.7583 - val_specificity: 0.8797\n",
      "Epoch 20/20\n",
      "396/396 [==============================] - 3s 8ms/step - loss: 0.4594 - accuracy: 0.7945 - AUC: 0.9356 - sensitivity: 0.7938 - specificity: 0.8982 - val_loss: 0.5404 - val_accuracy: 0.7604 - val_AUC: 0.9143 - val_sensitivity: 0.7581 - val_specificity: 0.8819\n",
      "220/220 [==============================] - 1s 6ms/step - loss: 0.5132 - accuracy: 0.7815 - AUC: 0.9225 - sensitivity: 0.7789 - specificity: 0.8920\n"
     ]
    }
   ],
   "source": [
    "model, results = kfolds_train(X_train, y_train, k)\n",
    "# model, results = train(X_train, y_train)"
   ]
  },
  {
   "cell_type": "code",
   "execution_count": 12,
   "metadata": {},
   "outputs": [],
   "source": [
    "def display_kfolds_results(results):\n",
    "    mean_results = [0 for i in range(len(results[0]))]\n",
    "    for i in range(k):\n",
    "        for j in range(len(results[i])):\n",
    "            mean_results[j] += results[i][j]\n",
    "        print(f\"Model {i+1}: {results[i][1]:.4f} (accuracy) {results[i][2]:.4f} (AUC) {results[i][3]:.4f} (sensitivity) {results[i][4]:.4f} (specificity)\")\n",
    "\n",
    "    mean_results = [i/k for i in mean_results]\n",
    "    print(f\"\\nMean: {mean_results[1]:.4f} (accuracy) {mean_results[2]:.4f} (AUC) {mean_results[3]:.4f} (sensitivity) {results[i][4]:.4f} (specificity)\")"
   ]
  },
  {
   "cell_type": "code",
   "execution_count": 13,
   "metadata": {},
   "outputs": [
    {
     "name": "stdout",
     "output_type": "stream",
     "text": [
      "Model 1: 0.7791 (accuracy) 0.9227 (AUC) 0.7780 (sensitivity) 0.8903 (specificity)\n",
      "Model 2: 0.7771 (accuracy) 0.9224 (AUC) 0.7764 (sensitivity) 0.8887 (specificity)\n",
      "Model 3: 0.7703 (accuracy) 0.9199 (AUC) 0.7687 (sensitivity) 0.8856 (specificity)\n",
      "Model 4: 0.7800 (accuracy) 0.9242 (AUC) 0.7788 (sensitivity) 0.8908 (specificity)\n",
      "Model 5: 0.7815 (accuracy) 0.9225 (AUC) 0.7789 (sensitivity) 0.8920 (specificity)\n",
      "\n",
      "Mean: 0.7776 (accuracy) 0.9223 (AUC) 0.7762 (sensitivity) 0.8920 (specificity)\n"
     ]
    }
   ],
   "source": [
    "display_kfolds_results(results)"
   ]
  },
  {
   "cell_type": "code",
   "execution_count": 14,
   "metadata": {},
   "outputs": [
    {
     "name": "stdout",
     "output_type": "stream",
     "text": [
      "220/220 [==============================] - 1s 2ms/step\n"
     ]
    }
   ],
   "source": [
    "probs = model.predict(X_test)\n",
    "predictions = [np.argmax(i) for i in probs]\n",
    "labels = [np.argmax(i) for i in y_test]\n",
    "\n",
    "res = tf.math.confusion_matrix(labels, predictions)"
   ]
  },
  {
   "cell_type": "code",
   "execution_count": 15,
   "metadata": {},
   "outputs": [
    {
     "data": {
      "image/png": "[encoded data removed]",
      "text/plain": [
       "<Figure size 640x480 with 2 Axes>"
      ]
     },
     "metadata": {},
     "output_type": "display_data"
    }
   ],
   "source": [
    "import seaborn as sn\n",
    "import pandas as pd\n",
    "import matplotlib.pyplot as plt\n",
    "\n",
    "# classes = sorted(list(set(labels)))\n",
    "\n",
    "array = np.array(res).tolist()\n",
    "df_cm = pd.DataFrame(array, classes, classes)\n",
    "sn.set(font_scale=1)\n",
    "sn.heatmap(df_cm, annot=True, annot_kws={\"size\": 16}, fmt='g')\n",
    "\n",
    "plt.show()"
   ]
  },
  {
   "cell_type": "code",
   "execution_count": 16,
   "metadata": {},
   "outputs": [],
   "source": [
    "def store_results(results):\n",
    "    res_path = f'{MODEL_PATH}{MODEL_NAME}.csv'\n",
    "\n",
    "    d = {'accuracy':[], 'AUC':[], 'sensitivity':[], 'specificity':[]}\n",
    "\n",
    "    for i in range(len(results)):\n",
    "        d['accuracy'].append(f\"{100 * results[i][1]:.2f}\")\n",
    "        d['AUC'].append(f\"{100 * results[i][2]:.2f}\")\n",
    "        d['sensitivity'].append(f\"{100 * results[i][3]:.2f}\")\n",
    "        d['specificity'].append(f\"{100 * results[i][4]:.2f}\")\n",
    "\n",
    "    df = pd.DataFrame(d)\n",
    "    df.to_csv(res_path)"
   ]
  },
  {
   "cell_type": "code",
   "execution_count": 17,
   "metadata": {},
   "outputs": [],
   "source": [
    "store_results(results)"
   ]
  },
  {
   "cell_type": "code",
   "execution_count": 18,
   "metadata": {},
   "outputs": [],
   "source": [
    "model.save(f\"{MODEL_PATH}{MODEL_NAME}.h5\")"
   ]
  },
  {
   "cell_type": "code",
   "execution_count": null,
   "metadata": {},
   "outputs": [],
   "source": []
  }
 ],
 "metadata": {
  "kernelspec": {
   "display_name": "base",
   "language": "python",
   "name": "python3"
  },
  "language_info": {
   "codemirror_mode": {
    "name": "ipython",
    "version": 3
   },
   "file_extension": ".py",
   "mimetype": "text/x-python",
   "name": "python",
   "nbconvert_exporter": "python",
   "pygments_lexer": "ipython3",
   "version": "3.9.16"
  },
  "orig_nbformat": 4
 },
 "nbformat": 4,
 "nbformat_minor": 2
}
