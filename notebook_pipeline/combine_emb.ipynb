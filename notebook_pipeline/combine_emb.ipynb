{
 "cells": [
  {
   "cell_type": "code",
   "execution_count": 1,
   "metadata": {},
   "outputs": [],
   "source": [
    "import numpy as np\n",
    "import os\n",
    "import pandas as pd\n",
    "import tensorflow as tf\n",
    "from tqdm import tqdm"
   ]
  },
  {
   "cell_type": "code",
   "execution_count": 2,
   "metadata": {},
   "outputs": [],
   "source": [
    "IN = \"../../data/stage_clf_enh_img_manual2_embeddings/\"\n",
    "OUT = \"../../data/embeddings/efficient_net/stage23_enh_manual_clf/\"\n",
    "NAME = \"stage23_enh_manual_clf\""
   ]
  },
  {
   "cell_type": "code",
   "execution_count": 3,
   "metadata": {},
   "outputs": [],
   "source": [
    "if not os.path.exists(OUT):\n",
    "    os.mkdir(OUT)"
   ]
  },
  {
   "cell_type": "code",
   "execution_count": 4,
   "metadata": {},
   "outputs": [
    {
     "name": "stdout",
     "output_type": "stream",
     "text": [
      "(602, 1280, 1) (602, 2)\n"
     ]
    }
   ],
   "source": [
    "classes = sorted(os.listdir(IN))\n",
    "class_map = {}\n",
    "for i in range(len(classes)):\n",
    "    class_map[classes[i]] = i\n",
    "\n",
    "x = []\n",
    "y = []\n",
    "\n",
    "for cls in classes:\n",
    "    cls_path = os.path.join(IN, cls)\n",
    "    cls_ind = class_map[cls]\n",
    "    for file in os.listdir(cls_path):\n",
    "        file_path = os.path.join(cls_path, file)\n",
    "        embedding = np.load(file_path).transpose()\n",
    "        x.append(embedding)\n",
    "        y.append(cls_ind)\n",
    "\n",
    "x = np.array(x)\n",
    "y = tf.keras.utils.to_categorical(y, num_classes=len(classes))\n",
    "print(x.shape, y.shape)"
   ]
  },
  {
   "cell_type": "code",
   "execution_count": 5,
   "metadata": {},
   "outputs": [],
   "source": [
    "np.save(f\"{OUT}{NAME}.npy\", x)\n",
    "np.save(f\"{OUT}{NAME}_labels.npy\", y)"
   ]
  },
  {
   "cell_type": "code",
   "execution_count": null,
   "metadata": {},
   "outputs": [],
   "source": []
  }
 ],
 "metadata": {
  "kernelspec": {
   "display_name": "base",
   "language": "python",
   "name": "python3"
  },
  "language_info": {
   "codemirror_mode": {
    "name": "ipython",
    "version": 3
   },
   "file_extension": ".py",
   "mimetype": "text/x-python",
   "name": "python",
   "nbconvert_exporter": "python",
   "pygments_lexer": "ipython3",
   "version": "3.9.16"
  }
 },
 "nbformat": 4,
 "nbformat_minor": 2
}
